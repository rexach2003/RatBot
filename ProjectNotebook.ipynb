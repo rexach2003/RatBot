{
 "cells": [
  {
   "cell_type": "markdown",
   "metadata": {},
   "source": [
    "# Project Description"
   ]
  },
  {
   "cell_type": "markdown",
   "metadata": {},
   "source": [
    "My project is an artificial agent that explores a given 2D environment in search of a specific point. It keeps track of its immediate surroundings as well as where it has been before, and uses that information to make decisions on where and how to move.\n",
    "\n",
    "(His name is Harold. He is a digital rat.)"
   ]
  },
  {
   "cell_type": "markdown",
   "metadata": {},
   "source": [
    "## Project Code\n",
    "\n",
    "If it makes sense for your project, you can have code and outputs here in the notebook as well."
   ]
  },
  {
   "cell_type": "code",
   "execution_count": 9,
   "metadata": {},
   "outputs": [],
   "source": [
    "from my_module.classes import LabRat, Level, grid1, grid2, grid3\n",
    "Harold = LabRat()\n",
    "# initializing bot\n",
    "levels = [Level(grid1, [2,20]), Level(grid2, [17,36]), Level(grid3,[20,60])]\n",
    "# creating the three levels\n",
    "from my_module.functions import rat_maze, run_custom_maze, detect_win_state"
   ]
  },
  {
   "cell_type": "code",
   "execution_count": 11,
   "metadata": {},
   "outputs": [],
   "source": [
    "# uncomment the following function and run this cell:\n",
    "\n",
    "# rat_maze(Harold, levels)"
   ]
  },
  {
   "cell_type": "markdown",
   "metadata": {},
   "source": [
    "If you're charmed by Harold, why not create him another maze to explore?"
   ]
  },
  {
   "cell_type": "code",
   "execution_count": 5,
   "metadata": {},
   "outputs": [],
   "source": [
    "# create your own maze for Harold to explore if you wish:\n",
    "custom_grid = [ '=====BONUS======',\n",
    "    '■ ■ ■ ■ ■ ■ ■ ■ ■ ■ ■',\n",
    "    '■ . . . . . . . . . ■',\n",
    "    '■ . . . . . . . . . ■',\n",
    "    '■ . . . . . . . . . ■',\n",
    "    '■ . . . . . . . . . ■',\n",
    "    '■ . . . . . . . . . ■',\n",
    "    '■ . . . . . . . . . ■',\n",
    "    '■ . . . . . . . . . ■',\n",
    "    '■ . . . . . . . . . ■',\n",
    "    '■ . . . . . . . . . X',\n",
    "    '■ ■ ■ ■ ■ ■ ■ ■ ■ ■ ■'\n",
    "]\n",
    "# you don't need to stick to the frame template provided, but make sure both the height and width are odd numbers.\n",
    "# row elements have spaces between them to preserve visual layout.\n",
    "# start is the top left.\n",
    "# use 'X' to mark the end point.\n",
    "\n",
    "custom_level = Level(custom_grid, detect_win_state(custom_grid))\n",
    "# creates a new level from the grid"
   ]
  },
  {
   "cell_type": "code",
   "execution_count": 7,
   "metadata": {},
   "outputs": [],
   "source": [
    "# uncomment the following function and run this cell:\n",
    "\n",
    "# run_custom_maze(Harold, custom_level)"
   ]
  },
  {
   "cell_type": "markdown",
   "metadata": {},
   "source": [
    "#### Extra Credit (*optional*)\n",
    "\n",
    "I came into this class completely new to Python, and to coding as a whole. I found the artificial agents from A4 charming, so for this final project, I challenged myself to create a similar agent that could explore a predetermined course with intentionality. While I used the basic model from A4 as a starting point, I ended up needing to rework the structure of the bot from the ground in order to fit my idea for it."
   ]
  }
 ],
 "metadata": {
  "kernelspec": {
   "display_name": "Python 3 (ipykernel)",
   "language": "python",
   "name": "python3"
  },
  "language_info": {
   "codemirror_mode": {
    "name": "ipython",
    "version": 3
   },
   "file_extension": ".py",
   "mimetype": "text/x-python",
   "name": "python",
   "nbconvert_exporter": "python",
   "pygments_lexer": "ipython3",
   "version": "3.9.5"
  }
 },
 "nbformat": 4,
 "nbformat_minor": 2
}
